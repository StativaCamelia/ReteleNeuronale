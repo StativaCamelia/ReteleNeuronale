{
 "cells": [
  {
   "cell_type": "markdown",
   "metadata": {},
   "source": [
    "***Python Problems***"
   ]
  },
  {
   "cell_type": "markdown",
   "metadata": {},
   "source": [
    "**P1**"
   ]
  },
  {
   "cell_type": "code",
   "execution_count": 1,
   "metadata": {},
   "outputs": [
    {
     "name": "stdout",
     "output_type": "stream",
     "text": [
      "False\n"
     ]
    }
   ],
   "source": [
    "import math\n",
    "\n",
    "def is_prime(n):\n",
    "    if n == 2: return True\n",
    "    if n == 1 or n == 0 or n % 2 == 0: return False\n",
    "    \n",
    "    for i in range(3, int(math.sqrt(n))+1, 2):\n",
    "        if n % i == 0:\n",
    "            return False\n",
    "    return True\n",
    "\n",
    "print(is_prime(21))"
   ]
  },
  {
   "cell_type": "markdown",
   "metadata": {},
   "source": [
    "**P2**"
   ]
  },
  {
   "cell_type": "code",
   "execution_count": 2,
   "metadata": {},
   "outputs": [
    {
     "name": "stdout",
     "output_type": "stream",
     "text": [
      "['Deleniti', 'Eripuit', 'Est', 'Id', 'Ius', 'Nam', 'Quem', 'Qui', 'Sit', 'Te', 'Te', 'Vim', 'Vim', 'Vis', 'ad', 'ad', 'adipisci', 'adolescens', 'alienum', 'aliquid', 'an', 'an', 'an', 'appareat', 'assentior', 'assentior', 'at', 'at', 'at', 'audiam', 'brute', 'complectitur', 'concludaturque', 'congue', 'consectetuer', 'consequat', 'constituto', 'corrumpit', 'cu', 'cu', 'cu', 'cum', 'decore', 'disputando', 'dolore', 'duo', 'ea', 'ea', 'ea', 'eloquentiam', 'error', 'erroribus', 'est', 'est', 'eu', 'eu', 'euismod', 'eum', 'ex', 'ex', 'ex', 'ex', 'facete', 'fugit', 'gloriatur', 'has', 'his', 'id', 'instructior', 'iriure', 'labore', 'labores', 'laoreet', 'libris', 'lucilius', 'mea', 'mea', 'mea', 'mea', 'mea', 'mei', 'mei', 'melius', 'molestie', 'molestie', 'mollis', 'nam', 'ne', 'ne', 'nominati', 'nominavi', 'nominavi', 'nostro', 'nostro', 'nostrum', 'nusquam', 'nusquam', 'omittantur', 'omnium', 'patrioque', 'per', 'per', 'pertinacia', 'ponderum', 'possit', 'principes', 'pro', 'propriae', 'purto', 'qualisque', 'qui', 'quod', 'rationibus', 'rebum', 'recusabo', 'recusabo', 'regione', 'sanctus', 'sapientem', 'sea', 'sed', 'similique', 'sonet', 'splendide', 'suscipiantur', 'tacimates', 'tantas', 'te', 'te', 'te', 'te', 'torquatos', 'tota', 'unum', 'ut', 'ut', 'utamur', 'verear', 'veritus', 'veritus', 'verterem', 'vim', 'vim', 'vivendum', 'vix', 'vulputate']\n"
     ]
    }
   ],
   "source": [
    "def sort_words(text_path):\n",
    "    all_words = []\n",
    "    \n",
    "    fd = open(text_path, 'r')\n",
    "    line = fd.readline()\n",
    "    while line:\n",
    "        line = line.strip()\n",
    "        if line == '':\n",
    "            line = fd.readline()\n",
    "            continue            \n",
    "        \n",
    "        for character in [',', '.', ':', ';']:\n",
    "            line = line.replace(character, '')\n",
    "        \n",
    "        words = line.split(' ')        \n",
    "        all_words += words\n",
    "        \n",
    "        line = fd.readline()\n",
    "    \n",
    "    return sorted(all_words)\n",
    "\n",
    "print(sort_words('Latin-Lipsum.txt'))"
   ]
  },
  {
   "cell_type": "markdown",
   "metadata": {},
   "source": [
    "**P3**"
   ]
  },
  {
   "cell_type": "code",
   "execution_count": 3,
   "metadata": {},
   "outputs": [
    {
     "name": "stdout",
     "output_type": "stream",
     "text": [
      "[-27, -87, -147]\n"
     ]
    }
   ],
   "source": [
    "from typing import List\n",
    "\n",
    "def mat_mul(M: List[List[float]], v:List[float]) -> list:\n",
    "    Mv = []\n",
    "    for line in M:\n",
    "        dot_product = 0\n",
    "        for col_M, col_v in zip(line, v):\n",
    "            dot_product += col_M*col_v    \n",
    "        Mv.append(dot_product)\n",
    "    \n",
    "    return Mv\n",
    "\n",
    "M = [[1, 2, 3, 4], [11, 12, 13, 14], [21, 22, 23, 24]]\n",
    "v = [2, -5, 7, -10]\n",
    "print(mat_mul(M, v))"
   ]
  },
  {
   "cell_type": "markdown",
   "metadata": {},
   "source": [
    "***Numpy Problems***"
   ]
  },
  {
   "cell_type": "code",
   "execution_count": 4,
   "metadata": {},
   "outputs": [],
   "source": [
    "import numpy as np"
   ]
  },
  {
   "cell_type": "markdown",
   "metadata": {},
   "source": [
    "**P1**"
   ]
  },
  {
   "cell_type": "code",
   "execution_count": 5,
   "metadata": {},
   "outputs": [
    {
     "name": "stdout",
     "output_type": "stream",
     "text": [
      "[[ 1  2  3  4]\n",
      " [11 12 13 14]\n",
      " [21 22 23 24]]\n",
      "[  2  -5   7 -10]\n"
     ]
    }
   ],
   "source": [
    "u = np.array(v)\n",
    "N = np.array([np.array(l) for l in M])\n",
    "print(N)\n",
    "print(u)"
   ]
  },
  {
   "cell_type": "code",
   "execution_count": 6,
   "metadata": {},
   "outputs": [
    {
     "name": "stdout",
     "output_type": "stream",
     "text": [
      "[[ 3  4]\n",
      " [13 14]]\n",
      "[  7 -10]\n"
     ]
    }
   ],
   "source": [
    "print(N[:2, -2:])\n",
    "print(u[-2:])"
   ]
  },
  {
   "cell_type": "markdown",
   "metadata": {},
   "source": [
    "**P2**"
   ]
  },
  {
   "cell_type": "code",
   "execution_count": 7,
   "metadata": {},
   "outputs": [
    {
     "name": "stdout",
     "output_type": "stream",
     "text": [
      "[0.83977629 0.13741505 0.2876332 ] [0.26765013 0.1066061  0.24756161]\n"
     ]
    }
   ],
   "source": [
    "n = 3\n",
    "R1 = np.random.rand(3)\n",
    "R2 = np.random.rand(3)\n",
    "print(R1, R2)"
   ]
  },
  {
   "cell_type": "markdown",
   "metadata": {},
   "source": [
    "a) Compare sum of Vectors"
   ]
  },
  {
   "cell_type": "code",
   "execution_count": 8,
   "metadata": {},
   "outputs": [
    {
     "data": {
      "text/plain": [
       "array([0.83977629, 0.13741505, 0.2876332 ])"
      ]
     },
     "execution_count": 8,
     "metadata": {},
     "output_type": "execute_result"
    }
   ],
   "source": [
    "R1 if np.sum(R1) >= np.sum(R2) else R2"
   ]
  },
  {
   "cell_type": "markdown",
   "metadata": {},
   "source": [
    "b) Sum and Product of Vectors"
   ]
  },
  {
   "cell_type": "code",
   "execution_count": 9,
   "metadata": {},
   "outputs": [
    {
     "name": "stdout",
     "output_type": "stream",
     "text": [
      "[1.10742643 0.24402116 0.5351948 ]\n"
     ]
    }
   ],
   "source": [
    "print(R1 + R2)"
   ]
  },
  {
   "cell_type": "code",
   "execution_count": 10,
   "metadata": {},
   "outputs": [
    {
     "name": "stdout",
     "output_type": "stream",
     "text": [
      "[0.22476624 0.01464928 0.07120694]\n"
     ]
    }
   ],
   "source": [
    "print(R1*R2)"
   ]
  },
  {
   "cell_type": "code",
   "execution_count": 11,
   "metadata": {},
   "outputs": [
    {
     "name": "stdout",
     "output_type": "stream",
     "text": [
      "[[0.22476624 0.08952528 0.20789637]\n",
      " [0.03677916 0.01464928 0.03401869]\n",
      " [0.07698506 0.03066345 0.07120694]]\n"
     ]
    }
   ],
   "source": [
    "print(np.outer(R1, R2))"
   ]
  },
  {
   "cell_type": "markdown",
   "metadata": {},
   "source": [
    "c) Square Root of Vector"
   ]
  },
  {
   "cell_type": "code",
   "execution_count": 12,
   "metadata": {},
   "outputs": [
    {
     "name": "stdout",
     "output_type": "stream",
     "text": [
      "[0.91639309 0.37069536 0.53631446]\n"
     ]
    }
   ],
   "source": [
    "print(np.sqrt(R1))"
   ]
  },
  {
   "cell_type": "markdown",
   "metadata": {},
   "source": [
    "**P3**"
   ]
  },
  {
   "cell_type": "code",
   "execution_count": 13,
   "metadata": {},
   "outputs": [
    {
     "name": "stdout",
     "output_type": "stream",
     "text": [
      "[[0.83035461 0.26679882 0.94960108 0.31542819 0.86307315]\n",
      " [0.91097813 0.15861392 0.01504202 0.30919711 0.93727652]\n",
      " [0.49165335 0.79396902 0.14894773 0.66093534 0.36711227]\n",
      " [0.10028935 0.8624243  0.46869311 0.11129286 0.36835609]\n",
      " [0.54980947 0.49522292 0.24526859 0.02872221 0.02346581]]\n"
     ]
    }
   ],
   "source": [
    "B = np.random.rand(5,5)\n",
    "print(B)"
   ]
  },
  {
   "cell_type": "markdown",
   "metadata": {},
   "source": [
    "a) Transpose"
   ]
  },
  {
   "cell_type": "code",
   "execution_count": 14,
   "metadata": {},
   "outputs": [
    {
     "name": "stdout",
     "output_type": "stream",
     "text": [
      "[[0.83035461 0.91097813 0.49165335 0.10028935 0.54980947]\n",
      " [0.26679882 0.15861392 0.79396902 0.8624243  0.49522292]\n",
      " [0.94960108 0.01504202 0.14894773 0.46869311 0.24526859]\n",
      " [0.31542819 0.30919711 0.66093534 0.11129286 0.02872221]\n",
      " [0.86307315 0.93727652 0.36711227 0.36835609 0.02346581]]\n"
     ]
    }
   ],
   "source": [
    "print(B.T)"
   ]
  },
  {
   "cell_type": "markdown",
   "metadata": {},
   "source": [
    "b) Inverse and Determinant"
   ]
  },
  {
   "cell_type": "code",
   "execution_count": 15,
   "metadata": {},
   "outputs": [
    {
     "name": "stdout",
     "output_type": "stream",
     "text": [
      "Inverse:\n",
      "[[ 0.04305648  0.28957445 -0.07693215 -0.85652237  1.49902089]\n",
      " [-0.63439304  0.15760352  0.03678309  1.01825787  0.47833454]\n",
      " [ 1.13289051 -0.9770612  -0.06580597 -0.10177306 -0.01465779]\n",
      " [ 0.54906921 -0.75263267  1.83922686 -1.13952905 -1.01902512]\n",
      " [-0.13380419  1.02276617 -0.53713559  1.03772282 -1.20150845]]\n",
      "\n",
      " Determinant:\n",
      "0.2424173980105172\n"
     ]
    }
   ],
   "source": [
    "print(\"Inverse:\")\n",
    "print(np.linalg.inv(B))\n",
    "print(\"\\n Determinant:\")\n",
    "print(np.linalg.det(B))"
   ]
  },
  {
   "cell_type": "markdown",
   "metadata": {},
   "source": [
    "***P3***"
   ]
  },
  {
   "cell_type": "code",
   "execution_count": 16,
   "metadata": {},
   "outputs": [
    {
     "name": "stdout",
     "output_type": "stream",
     "text": [
      "[0.28317577 0.28520554 0.31156976 0.16706626 0.01931169]\n"
     ]
    }
   ],
   "source": [
    "t = np.random.rand(5)\n",
    "print(t)"
   ]
  },
  {
   "cell_type": "code",
   "execution_count": 17,
   "metadata": {},
   "outputs": [
    {
     "name": "stdout",
     "output_type": "stream",
     "text": [
      "[0.67646059 0.37764794 0.52958584 0.44610517 0.37860299]\n"
     ]
    }
   ],
   "source": [
    "print(np.matmul(B, t))"
   ]
  }
 ],
 "metadata": {
  "kernelspec": {
   "display_name": "Python 3",
   "language": "python",
   "name": "python3"
  },
  "language_info": {
   "codemirror_mode": {
    "name": "ipython",
    "version": 3
   },
   "file_extension": ".py",
   "mimetype": "text/x-python",
   "name": "python",
   "nbconvert_exporter": "python",
   "pygments_lexer": "ipython3",
   "version": "3.7.1"
  }
 },
 "nbformat": 4,
 "nbformat_minor": 4
}
